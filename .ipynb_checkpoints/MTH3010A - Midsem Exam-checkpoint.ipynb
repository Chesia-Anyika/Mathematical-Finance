{
 "cells": [
  {
   "cell_type": "markdown",
   "id": "249da09d",
   "metadata": {},
   "source": [
    "# Mth3010A - Mathematical Finance Midsem\n",
    "\n",
    "**Solve all problems while demonstrating each step clearly. The Exam is worth\n",
    "a total of 20 points**\n",
    "\n",
    "Name: Chesia Anyika\n",
    "ID: 665567"
   ]
  },
  {
   "cell_type": "markdown",
   "id": "10f950ae",
   "metadata": {},
   "source": [
    "## Question 1: \n",
    "\n",
    "**Define sample space, measurable space and probability measure and give examples in\n",
    "each case. Explain their significance in mathematical finance (3pts)**\n",
    "\n",
    "### 1.1. Sample Space (\\( \\Omega \\)):\n",
    "**Definition**  The sample space is the set of all possible outcomes of a random experiment. It is denoted by \\( \\Omega \\). As an example, for a coin toss, the sample space is \\( \\Omega = \\{ \\text{Heads}, \\text{Tails} \\} \\).\n",
    "\n",
    "**Significance:** The sample space represents all possible states or outcomes of a financial system. For instance, the sample space could include all possible future prices of a stock.\n",
    "\n",
    "### 1.2. Measurable Space (\\( (\\Omega, \\mathcal{F}) \\)):\n",
    "**Definition**: A measurable space defines a collection of sets to which measures or probabilities can be assigned. It is a pair \\( (\\Omega, \\mathcal{F}) \\) where \\( \\Omega \\) is the sample space and \\( \\mathcal{F} \\) is a σ-algebra of subsets of \\( \\Omega \\). The σ-algebra \\( \\mathcal{F} \\) is a collection of subsets of \\( \\Omega \\) that includes the sample space itself, is closed under complementation, and is closed under countable unions.\n",
    "\n",
    "As an example, for a coin toss, \\( \\Omega = \\{ \\text{Heads}, \\text{Tails} \\} \\), and a possible σ-algebra could be \\( \\mathcal{F} = \\{ \\emptyset, \\{ \\text{Heads} \\}, \\{ \\text{Tails} \\}, \\{ \\text{Heads}, \\text{Tails} \\} \\} \\).\n",
    "\n",
    "**Significance:** The σ-algebra \\( \\mathcal{F} \\) represents the collection of events (subsets of the sample space) for which we can assign probabilities. This allows for the formalization of which events can be measured and analyzed.\n",
    "\n",
    "### 1.3 Probability Measure (\\( P \\)):\n",
    "**Definition**: A probability measure is a function \\( P: \\mathcal{F} \\rightarrow [0, 1] \\) that assigns a probability to each event in the σ-algebra \\( \\mathcal{F} \\). It satisfies three axioms:\n",
    "  1. **Non-negativity**: \\( P(A) \\geq 0 \\) for all \\( A \\in \\mathcal{F} \\).\n",
    "  2. **Normalization**: \\( P(\\Omega) = 1 \\).\n",
    "  3. **Countable Additivity**: If \\( \\{A_i\\} \\) is a countable collection of disjoint sets in \\( \\mathcal{F} \\), then \\( P\\left( \\bigcup_{i=1}^{\\infty} A_i \\right) = \\sum_{i=1}^{\\infty} P(A_i) \\).\n",
    "\n",
    "As an example, For a fair coin toss, the probability measure can be defined as \\( P(\\{\\text{Heads}\\}) = 0.5 \\) and \\( P(\\{\\text{Tails}\\}) = 0.5 \\).\n",
    "\n",
    "**Significance:** Assigns probabilities to events in the σ-algebra \\( \\mathcal{F} \\). This is essential for pricing derivatives, assessing risk, and making decisions under uncertainty. For example, in option pricing models like the Black-Scholes model, the probability measure is used to determine the likelihood of different price paths of the underlying asset.\n",
    "\n"
   ]
  },
  {
   "cell_type": "markdown",
   "id": "129c7cf3",
   "metadata": {},
   "source": [
    "## Question 2\n",
    "**Completely characterize a normal distribution. Explain in details the significance of a\n",
    "normal distribution in the pricing of options**\n",
    "\n",
    "### Characterisation of a Normal Distribution\n",
    "\n",
    "#### Definition and Mathematical Representation\n",
    "\n",
    "A normal distribution, also known as the Gaussian distribution, is a continuous probability distribution characterized by its mean (µ) and variance (σ²). The probability density function (PDF) of the normal distribution is given by:\n",
    "\n",
    "\\[ f(x) = \\frac{1}{\\sqrt{2\\pi\\sigma^2}} \\exp\\left(-\\frac{(x - \\mu)^2}{2\\sigma^2}\\right) \\]\n",
    "\n",
    "where:\n",
    "- \\( \\mu \\) is the mean of the distribution.\n",
    "- \\( \\sigma^2 \\) is the variance of the distribution.\n",
    "- \\( \\sigma \\) is the standard deviation, which is the square root of the variance.\n",
    "\n",
    "#### Properties\n",
    "\n",
    "1. **Mean (\\( \\mu \\))**: The central point around which the data is symmetrically distributed. It represents the expected value of the distribution:\n",
    "   \\[ \\mu = E[X] \\]\n",
    "\n",
    "2. **Variance (\\( \\sigma^2 \\))**: Measures the spread or dispersion of the distribution. It quantifies how much the values of the distribution deviate from the mean:\n",
    "   \\[ \\sigma^2 = \\text{Var}(X) = E[(X - \\mu)^2] \\]\n",
    "\n",
    "3. **Standard Deviation (\\( \\sigma \\))**: The square root of the variance:\n",
    "   \\[ \\sigma = \\sqrt{\\sigma^2} \\]\n",
    "\n",
    "4. **Symmetry**: The normal distribution is symmetric about its mean \\( \\mu \\).\n",
    "\n",
    "5. **Bell-Shaped Curve**: The PDF forms a bell-shaped curve centered at the mean \\( \\mu \\).\n",
    "\n",
    "#### Examples in Mathematical Finance\n",
    "\n",
    "1. **Asset Returns**: The returns on financial assets, such as stocks, are often assumed to be normally distributed. If the return \\( R \\) of an asset is normally distributed with mean \\( \\mu \\) and variance \\( \\sigma^2 \\), it can be represented as:\n",
    "   \\[ R \\sim N(\\mu, \\sigma^2) \\]\n",
    "\n",
    "2. **Black-Scholes Model**: The Black-Scholes model, a cornerstone of modern financial theory, assumes that the logarithm of stock prices follows a normal distribution. If \\( S_t \\) represents the stock price at time \\( t \\), then:\n",
    "   \\[ \\log(S_t) \\sim N(\\mu, \\sigma^2) \\]\n",
    "   This assumption leads to the Black-Scholes formula for pricing European options.\n",
    "\n",
    "3. **Value at Risk (VaR)**: VaR is a measure of the potential loss in value of a portfolio over a defined period for a given confidence interval. Assuming the returns are normally distributed, VaR can be calculated using the mean and standard deviation of the portfolio returns. For a confidence level \\( \\alpha \\):\n",
    "   \\[ \\text{VaR}_\\alpha = \\mu + z_\\alpha \\sigma \\]\n",
    "   where \\( z_\\alpha \\) is the quantile of the standard normal distribution corresponding to the confidence level \\( \\alpha \\).\n",
    "\n",
    "#### Significance in Option Pricing\n",
    "\n",
    "The normal distribution plays a crucial role in the pricing of options, particularly through the Black-Scholes model. The model assumes that the log-returns of the underlying asset are normally distributed. This assumption simplifies the complex task of modeling the price movements of the underlying asset, allowing for the derivation of a closed-form solution for the price of European options.\n",
    "\n",
    "1. **Risk Neutral Valuation**: The normal distribution allows for the use of risk-neutral valuation, where the expected return of the underlying asset in the risk-neutral world is the risk-free rate. This simplifies the valuation of options by enabling the use of discounted expected payoffs.\n",
    "\n",
    "2. **Delta Hedging**: The normal distribution assumption allows for the calculation of the Greeks (sensitivities of the option price to various factors), particularly delta, which is used for hedging strategies to manage the risk of option portfolios.\n",
    "\n",
    "3. **Volatility Estimation**: The standard deviation \\( \\sigma \\) in the normal distribution is directly related to the volatility of the underlying asset, which is a key input in the Black-Scholes model. Accurate estimation of volatility is crucial for option pricing and risk management.\n",
    "\n",
    "In summary, the normal distribution is foundational in mathematical finance, providing a framework for modeling asset returns, deriving option pricing formulas, and implementing risk management strategies.  ."
   ]
  },
  {
   "cell_type": "markdown",
   "id": "8c01daea",
   "metadata": {},
   "source": [
    "## Question 3\n",
    "\n",
    "**Simulate paths of Brownian motion and visualize them in Python. (choose your own\n",
    "parameters**"
   ]
  },
  {
   "cell_type": "code",
   "execution_count": null,
   "id": "21f1cd12",
   "metadata": {},
   "outputs": [],
   "source": []
  }
 ],
 "metadata": {
  "kernelspec": {
   "display_name": "Python 3 (ipykernel)",
   "language": "python",
   "name": "python3"
  },
  "language_info": {
   "codemirror_mode": {
    "name": "ipython",
    "version": 3
   },
   "file_extension": ".py",
   "mimetype": "text/x-python",
   "name": "python",
   "nbconvert_exporter": "python",
   "pygments_lexer": "ipython3",
   "version": "3.11.3"
  }
 },
 "nbformat": 4,
 "nbformat_minor": 5
}
