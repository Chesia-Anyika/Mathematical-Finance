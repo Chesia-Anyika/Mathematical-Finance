{
 "cells": [
  {
   "cell_type": "markdown",
   "id": "b3a19ff0",
   "metadata": {},
   "source": [
    "# MTH3010A - Quiz 2\n",
    "**Solve all problems while demonstrating each step clearly. The Quiz is worth a total of 10 points.**\n",
    "\n",
    "## Question 1 \n",
    "**Suppose an asset has the following factor sensitivities:β1 = 0.5, β2 = −0.3, β3 = 0.7. If the expected returns of the three factors are 8%, 6%, and 10% respectively, and the risk-free rate is 4%, calculate the expected return of the asset according to arbitrage pricing theory. (1 point)**\n",
    "\n",
    "The general formula for the expected return of an asset according to APT is: \n",
    "\n",
    "$$E(R_i) = R_f + \\sum_{j=1}^n \\ \\beta_{ij} \\ (E(R_j)-R_f)$$\n",
    "\n",
    "Where: \n",
    "- $E(R_i)$ is the expected return of the asset\n",
    "- $R_f$ is the risk-free rate\n",
    "- $\\beta_{ij}$ is the seinsitivity of the asset to factor $j$\n",
    "- $E(R_j)$ is the expected return of factor $j$\n",
    "\n",
    "Given \n",
    "- $\\beta_1 = 0.5$\n",
    "- $\\beta_2 = −0.3$\n",
    "- $\\beta_3 = 0.7$\n",
    "- $E(R_1) = 8\\% = 0.08$\n",
    "- $E(R_2) = 6\\% = 0.06$\n",
    "- $E(R_3) = 10\\% = 0.10$\n",
    "- $R_f = 4\\% = 0.04$\n",
    "\n",
    "Plugging these values into the formula, we get: \n",
    "$$E(R_i) = 0.04 + 0.5 \\times (0.08 - 0.04) + (-0.3) \\times (0.06 - 0.04) + 0.7 \\times (0.10 - 0.04) \\\\\n",
    "E(R_i) = 0.04 + 0.5 \\times (0.04) + (-0.3) \\times (0.02) + 0.7 \\times (0.06) \\\\\n",
    "E(R_i) = 0.04 + 0.02 + (-0.006) + 0.042 \\\\\n",
    "E(R_i) = 0.096 = 9.6\\%$$\n",
    "\n",
    "The expected return of the asset according to arbitage pricing theory is $9.6\\%$"
   ]
  },
  {
   "cell_type": "markdown",
   "id": "75f8eb7c",
   "metadata": {},
   "source": [
    "## Question 2\n",
    "**Consider a portfolio consisting of two assets: Asset A and Asset B. Asset A has an expected return of 10% and a standard deviation of 15%, while Asset B has an expected return of 8% and a standard deviation of 10%. If you allocate 60% of your portfolio to Asset A and 40% to Asset B, what is the expected return and variance of your portfolio?. (1 point)**\n",
    "\n",
    "The expected return of the portfolio, $E(R_p)$, is a weighted average of the expected returns of the individual assets:\n",
    "\n",
    "### 2.1 Expected Return\n",
    "$$E(R_p) = w_AE(R_A) + w_BE(R_B)$$\n",
    "\n",
    "Where: \n",
    "- $w_A$ and $w_B$ are the weights of Asset A and Asset B in the portfolio.\n",
    "- $E(R_A)$ and $E(R_B)$ are the expected returns of Asset A and Asset B. \n",
    "\n",
    "Given: \n",
    "- $E(R_A)$ = 10\\% = 0.10\n",
    "- $E(R_B)$ = 8\\% = 0.08\n",
    "- $w_A$ = 60\\% = 0.60\n",
    "- $w_B$ = 40% = 0.40\n",
    "\n",
    "We can input this into the formula as follows: \n",
    "$$E(R_p) = 0.60 \\times 0.10 + 0.40 \\times 0.08 \\\\\n",
    "E(R_p) = 0.06 + 0.032 = 0.092$$\n",
    "\n",
    "So the expected return of the portfolio is $0.092$ or $9.2\\%$.\n",
    "\n",
    "### 2.2 Variance\n",
    "The variance of a portfolio, $\\sigma_p^2$ is given by:\n",
    "\n",
    "$$\\sigma_p^2 = w_A^2 \\sigma_A^2 + w_B^2 \\sigma_B^2 + 2w_Aw_B \\sigma_A \\sigma_B \\rho_AB$$\n",
    "\n",
    "Where: \n",
    "- $\\sigma_A$ and $\\sigma_B$ are the standard deviations of Asset A and Asset B.\n",
    "- $\\rho_AB$ is the correlation coefficient between the returns of Asset A and Asset B.\n",
    "\n",
    "If the correlation coefficient ρAB is not given, we assume it is zero (i.e., the assets are uncorrelated).\n",
    "\n",
    "Given:\n",
    "- $\\sigma_A = 15\\% = 0.15$\n",
    "- $\\sigma_B = 10\\% = 0.10$\n",
    "- $\\rho_AB = 0$\n",
    "\n",
    "Inputting these values into our formula we get: \n",
    "$$\\sigma_p^2 = (0.60)^2(0.15)^2 + (0.40)^2(0.10)^2 + 2(0.60)(0.40)(0.15)(0.10)(0) \\\\\n",
    "\\sigma_p^2 = 0.36 \\times 0.0225 + 0.16 \\times 0.01 + 0\\\\\n",
    "\\sigma_p^2 = 0.0081 + 0.0016\\\\\n",
    "\\sigma_p^2 = 0.0097$$\n",
    "\n",
    "The standard deviation of the portfolio, \\sigma_p, is: \n",
    "$\\sigma_p = \\sqrt{0.0097} \\equiv 0.0985$\n",
    "\n",
    "So, the variance of the portfolio is $0.0097\\%$, and the standard deviation is $0.0985$ or $9.85\\%$.\n"
   ]
  },
  {
   "cell_type": "markdown",
   "id": "86eb71e5",
   "metadata": {},
   "source": [
    "## Question 3\n",
    "**Given a corporate bond with a yield of 6% and a similar maturity risk-free rate of 3%, calculate the credit spread. (1 point)**\n",
    "\n",
    "The credit spread of a bond is the difference between the yield of the corporate bond and the yield of a similar maturity risk-free bond. It represents the additional yield that investors require to compensate for the credit risk of the corporate bond compared to a risk-free bond.\n",
    "\n",
    "Given:\n",
    "- Yield of the corporate bond: $6\\%$ (or 0.06)\n",
    "- Yield of the risk-free bond: $3\\%$ (or 0.03)\n",
    "\n",
    "The credit spread is calculated as follows:\n",
    "\n",
    "$$\\text{Credit Spread} = \\text{Yield of Corporate Bond} - \\text{Yield of Risk-Free Bond} \\\\\n",
    "\\text{Credit Spread} = 0.06 - 0.03 \\\\\n",
    "\\text{Credit Spread} = 0.03$$\n",
    "\n",
    "So, the credit spread is $0.03$ or $3\\%$."
   ]
  },
  {
   "cell_type": "markdown",
   "id": "7ac2ccfe",
   "metadata": {},
   "source": [
    "## Question 4\n",
    "**Calculate the credit valuation adjustment (CVA) for a portfolio of derivative contracts with a total notional value of 10 million dollars, a default probability of 1%, and an LGD of 40%. (1 point)**\n",
    "\n",
    "The Credit Valuation Adjustment (CVA) is the expected loss on a derivative portfolio due to the counterparty's default. It is calculated using the formula:\n",
    "\n",
    "$$\\text{CVA} = \\text{Notional Value} \\times \\text{Probability of Default} \\times \\text{Loss Given Default} $$\n",
    "\n",
    "Given:\n",
    "- Notional Value = 10,000,000\n",
    "- Probability of Default (PD) = 1% = 0.01\n",
    "- Loss Given Default (LGD) = 40% = 0.40\n",
    "\n",
    "Plugging these values into the formula:\n",
    "\n",
    "$$\\text{CVA} = 10,000,000 \\times 0.01 \\times 0.40\\\\\n",
    "\\text{CVA} = 10,000,000 \\times 0.004\\\\\n",
    "\\text{CVA} = 40,000$$\n",
    "\n",
    "So, the Credit Valuation Adjustment (CVA) for the portfolio is 40,000 dollars\n"
   ]
  },
  {
   "cell_type": "markdown",
   "id": "ba714868",
   "metadata": {},
   "source": [
    "## Question 5\n",
    "**Calculate the Sharpe ratio for a portfolio with an average annual return of 10% and a standard deviation of returns of 15%. The risk-free rate is 3%. (1 point)**\n",
    "\n",
    "The Sharpe ratio measures the risk-adjusted return of a portfolio. It is calculated using the formula:\n",
    "\n",
    "$$ \\text{Sharpe Ratio} = \\frac{E(R_p) - R_f}{\\sigma_p} $$\n",
    "\n",
    "where:\n",
    "- $E(R_p)$ is the average annual return of the portfolio.\n",
    "- $R_f$ is the risk-free rate.\n",
    "- $\\sigma_p$ is the standard deviation of the portfolio's returns.\n",
    "\n",
    "Given:\n",
    "- $E(R_p) = 10\\% = 0.10$\n",
    "- $R_f = 3\\% = 0.03$\n",
    "- $\\sigma_p = 15\\% = 0.15$\n",
    "\n",
    "Plugging these values into the formula:\n",
    "\n",
    "$$\\text{Sharpe Ratio} = \\frac{0.10-0.03}{0.15}\\\\\n",
    "\\text{Sharpe Ratio} = \\frac{0.07}{0.15}\\\\\n",
    "\\text{Sharpe Ratio} = 0.4667$$\n",
    "\n",
    "So, the Sharpe ratio for the portfolio is approximately 0.47."
   ]
  },
  {
   "cell_type": "markdown",
   "id": "775a42ca",
   "metadata": {},
   "source": [
    "## Question 6\n",
    "**Calculate the beta of a stock with an average return of 12% and a standard deviation of returns of 18%. The average return of the market is 8%, and its standard deviation of returns is 12%. (1 point)**\n",
    "\n",
    "To calculate the beta of a stock, we use the formula:\n",
    "\n",
    "$$\\beta = \\frac{\\text{Cov}(R_i, R_m)}{\\sigma_m^2}$$\n",
    "\n",
    "where:\n",
    "- $\\text{Cov}(R_i, R_m)$ is the covariance of the stock's returns with the market returns.\n",
    "- $\\sigma_m^2$ is the variance of the market returns.\n",
    "\n",
    "However, we need additional information to directly compute the covariance. Instead, we can use the correlation between the stock's returns and the market returns if it's given, but since we don't have the correlation here, we can approach this using the Capital Asset Pricing Model (CAPM) and the fact that beta can also be estimated using the formula:\n",
    "\n",
    "$$\\beta = \\frac{\\sigma_i}{\\sigma_m} \\cdot \\rho_{i,m}$$\n",
    "\n",
    "where:\n",
    "- $\\sigma_i$ is the standard deviation of the stock's returns.\n",
    "- $\\sigma_m$ is the standard deviation of the market returns.\n",
    "- $\\rho_{i,m}$ is the correlation coefficient between the stock's returns and the market returns.\n",
    "\n",
    "To find the beta, we typically need the correlation coefficient ($\\rho_{i,m}$). Since we don't have it, we'll assume a general form of the formula where we need to estimate ($\\beta$).\n",
    "\n",
    "Given:\n",
    "- Average return of the stock $E(R_i): 12\\% = 0.12$\n",
    "- Standard deviation of the stock's returns $\\sigma_i: 18\\% = 0.18$\n",
    "- Average return of the market $E(R_m): 8\\% = 0.08$\n",
    "- Standard deviation of the market's returns $\\sigma_m: 12\\% = 0.12$\n",
    "\n",
    "If we don't have the correlation coefficient, we can't directly compute the exact beta. If you have historical data for the stock and the market, you could calculate the covariance and then compute beta.\n",
    "\n",
    "Assuming the correlation coefficient $\\rho_{i,m}$ is given or is available, beta can be estimated as follows:\n",
    "\n",
    "$$\\beta = \\frac{\\sigma_i}{\\sigma_m} \\cdot \\rho_{i,m}$$\n",
    "\n",
    "If we assume $\\rho_{i,m} = 1$ (perfect correlation) for simplicity:\n",
    "\n",
    "$$\\beta = \\frac{0.18}{0.12} \\cdot 1 = 1.5$$\n",
    "\n",
    "So, under the assumption of perfect correlation (which is an upper bound), the beta of the stock is approximately 1.5.\n",
    "\n",
    "To get a precise beta, you would need the actual correlation coefficient between the stock's returns and the market's returns. If the correlation is less than 1, the beta will be proportionally lower."
   ]
  },
  {
   "cell_type": "markdown",
   "id": "85aa3b81",
   "metadata": {},
   "source": [
    "## Question 7\n",
    "**Consider a hypothetical portfolio with the following thirty historical returns data:**\n",
    "\n",
    "$$\\text{Table 1: Historical Returns Data (Days 1-15)}$$\n",
    "$$\n",
    "\\begin{array}{|c|*{15}{c|}}\n",
    "\\hline\n",
    "\\textbf{Day} & 1 & 2 & 3 & 4 & 5 & 6 & 7 & 8 & 9 & 10 & 11 & 12 & 13 & 14 & 15 \\\\ \\hline\n",
    "\\textbf{Return (\\%)} & -1.2 & 0.5 & 1.0 & -0.7 & -1.5 & 2.3 & -0.4 & 0.6 & -2.1 & 1.2 & 0.8 & -1.1 & 1.5 & -0.3 & 2.0 \\\\ \\hline\n",
    "\\end{array}\n",
    "$$\n",
    "\n",
    "$$\\text{Table 2: Historical Returns Data (Days 16-30)}$$\n",
    "$$\n",
    "\\begin{array}{|c|*{15}{c|}}\n",
    "\\hline\n",
    "\\textbf{Day} & 16 & 17 & 18 & 19 & 20 & 21 & 22 & 23 & 24 & 25 & 26 & 27 & 28 & 29 & 30 \\\\ \\hline\n",
    "\\textbf{Return (\\%)} & -1.7 & 0.4 & -0.5 & 1.8 & -2.2 & 0.9 & 1.1 & -1.6 & 2.4 & -0.9 & 1.3 & -0.8 & 0.7 & -1.9 & 1.4 \\\\ \\hline\n",
    "\\end{array}\n",
    "$$\n",
    "\n",
    "**Calculate the volatility of the returns and determine both the VaR and CVaR of thenportfolio using the historical method on returns data, the parametric method, and Monte Carlo simulation. Comment on the results by the three methods and give a convincing justification. (4 points)**\n",
    "\n",
    "### 7.1 Calculate Volatility\n",
    "\n",
    "Volatility is calculated as the standard deviation of the returns.\n",
    "\n",
    "Given the returns for 30 days, we first list them:\n",
    "\n",
    "$$\\text{Returns} (\\%)=[−1.2,0.5,1.0,−0.7,−1.5,2.3,−0.4,0.6,−2.1,1.2,0.8,−1.1,1.5,−0.3,2.0,−1.7,0.4,−0.5,1.8,−2.2,0.9,1.1,−1.6,2.4,−0.9,1.3,−0.8,0.7,−1.9,1.4]$$\n",
    "\n",
    "Convert these returns to decimals (divide by 100):\n",
    "\n",
    "$$\\text{Returns} = [−0.012,0.005,0.01,−0.007,−0.015,0.023,−0.004,0.006,−0.021,0.012,0.008,−0.011,0.015,−0.003,0.02,−0.017,0.004,−0.005,0.018,−0.022,0.009,0.011,−0.016,0.024,−0.009,0.013,−0.008,0.007,−0.019,0.014]$$\n",
    "\n",
    "Using Python for these calculations: "
   ]
  },
  {
   "cell_type": "code",
   "execution_count": 2,
   "id": "59974ba4",
   "metadata": {},
   "outputs": [
    {
     "name": "stdout",
     "output_type": "stream",
     "text": [
      "Volatility:  0.013883753839997855\n"
     ]
    }
   ],
   "source": [
    "import numpy as np\n",
    "\n",
    "# Given returns data\n",
    "returns = [-0.012, 0.005, 0.01, -0.007, -0.015, 0.023, -0.004, 0.006, -0.021, 0.012,\n",
    "           0.008, -0.011, 0.015, -0.003, 0.02, -0.017, 0.004, -0.005, 0.018, -0.022,\n",
    "           0.009, 0.011, -0.016, 0.024, -0.009, 0.013, -0.008, 0.007, -0.019, 0.014]\n",
    "\n",
    "# Calculate volatility (standard deviation)\n",
    "volatility = np.std(returns, ddof=1)\n",
    "print('Volatility: ', volatility)\n"
   ]
  },
  {
   "cell_type": "markdown",
   "id": "d0df1edc",
   "metadata": {},
   "source": [
    "### 7.2 Historical VaR\n",
    "\n",
    "To calculate the VaR at a 95% confidence level using the historical method, we:\n",
    "\n",
    "1. Sort the returns in ascending order.\n",
    "2. Find the 5th percentile (since 1−0.95=0.051−0.95=0.05).\n",
    "\n",
    "Using Python:"
   ]
  },
  {
   "cell_type": "code",
   "execution_count": 3,
   "id": "9ea18725",
   "metadata": {},
   "outputs": [
    {
     "name": "stdout",
     "output_type": "stream",
     "text": [
      "historical VaR:  -0.0201\n"
     ]
    }
   ],
   "source": [
    "# Calculate 5th percentile (VaR at 95% confidence level)\n",
    "historical_var = np.percentile(returns, 5)\n",
    "print('historical VaR: ', historical_var)"
   ]
  },
  {
   "cell_type": "markdown",
   "id": "a90c36b7",
   "metadata": {},
   "source": [
    "### 7.3 Historical CVaR\n",
    "\n",
    "To calculate the CVaR, we take the average of the returns that are below the VaR threshold.\n",
    "\n",
    "Using Python:"
   ]
  },
  {
   "cell_type": "code",
   "execution_count": 4,
   "id": "27fa81c8",
   "metadata": {},
   "outputs": [
    {
     "name": "stdout",
     "output_type": "stream",
     "text": [
      "historical CVaR:  -0.0215\n"
     ]
    }
   ],
   "source": [
    "# Calculate CVaR\n",
    "historical_cvar = np.mean([r for r in returns if r <= historical_var])\n",
    "print('historical CVaR: ', historical_cvar)"
   ]
  },
  {
   "cell_type": "markdown",
   "id": "3d29afd6",
   "metadata": {},
   "source": [
    "### 7.4 Parametric VaR and CVaR\n",
    "\n",
    "Assuming the returns are normally distributed, we can calculate the parametric VaR and CVaR using the mean ($\\mu$) and standard deviation ($\\sigma$) of the returns.\n",
    "Parametric VaR\n",
    "\n",
    "$VaR_{\\alpha} = \\mu + z_{\\alpha} \\sigma$\n",
    "\n",
    "Where: \n",
    "- $Z_{\\alpha}$ is the z-score for the 5th percentile (for 95% confidence level, z_{0.05} = -1.645)\n",
    "\n",
    "Using Python:"
   ]
  },
  {
   "cell_type": "code",
   "execution_count": 5,
   "id": "cd8680f2",
   "metadata": {},
   "outputs": [
    {
     "name": "stdout",
     "output_type": "stream",
     "text": [
      "parametric VaR:  -0.02183877506679647\n"
     ]
    }
   ],
   "source": [
    "# Calculate mean return\n",
    "mean_return = np.mean(returns)\n",
    "\n",
    "# Calculate z-score for 95% confidence level\n",
    "z_score = -1.645\n",
    "\n",
    "# Calculate parametric VaR\n",
    "parametric_var = mean_return + z_score * volatility\n",
    "print('parametric VaR: ', parametric_var)"
   ]
  },
  {
   "cell_type": "markdown",
   "id": "d7126db3",
   "metadata": {},
   "source": [
    "$CVaR_{\\alpha} = \\mu + \\frac{\\phi (z_{\\alpha})}{\\alpha} \\sigma$\n",
    "\n",
    "Where: \n",
    "$\\phi(z_{\\alpha})$ is the probability density function of the normal distribution at $z_{\\alpha}$. \n",
    "\n",
    "Using Python: "
   ]
  },
  {
   "cell_type": "code",
   "execution_count": 6,
   "id": "f4073792",
   "metadata": {},
   "outputs": [
    {
     "name": "stdout",
     "output_type": "stream",
     "text": [
      "parametric CVaR:  0.029631302388871808\n"
     ]
    }
   ],
   "source": [
    "from scipy.stats import norm\n",
    "\n",
    "# Calculate phi(z_alpha)\n",
    "phi = norm.pdf(z_score)\n",
    "\n",
    "# Calculate parametric CVaR\n",
    "parametric_cvar = mean_return + (phi / 0.05) * volatility\n",
    "print('parametric CVaR: ', parametric_cvar)"
   ]
  },
  {
   "cell_type": "markdown",
   "id": "e81a5650",
   "metadata": {},
   "source": [
    "### 7.5 Monte Carlo Simulation\n",
    "\n",
    "To calculate the VaR and CVaR using Monte Carlo simulation:\n",
    "\n",
    "1. Simulate a large number of potential returns based on the mean and standard deviation.\n",
    "2. Calculate the 5th percentile of these simulated returns for VaR.\n",
    "3. Calculate the average of the returns below this percentile for CVaR.\n",
    "\n",
    "Using Python:"
   ]
  },
  {
   "cell_type": "code",
   "execution_count": 8,
   "id": "5198feee",
   "metadata": {},
   "outputs": [
    {
     "name": "stdout",
     "output_type": "stream",
     "text": [
      "\n",
      " Monte Carlo VaR:  -0.021850103295117843 \n",
      " Monte Carlo CVaR:  -0.027698380024799085\n"
     ]
    }
   ],
   "source": [
    "# Set the number of simulations\n",
    "num_simulations = 10000\n",
    "\n",
    "# Simulate returns\n",
    "simulated_returns = np.random.normal(mean_return, volatility, num_simulations)\n",
    "\n",
    "# Calculate VaR from simulated returns\n",
    "mc_var = np.percentile(simulated_returns, 5)\n",
    "\n",
    "# Calculate CVaR from simulated returns\n",
    "mc_cvar = np.mean([r for r in simulated_returns if r <= mc_var])\n",
    "\n",
    "print('\\n Monte Carlo VaR: ', mc_var, '\\n Monte Carlo CVaR: ', mc_cvar)\n"
   ]
  },
  {
   "cell_type": "markdown",
   "id": "e2212345",
   "metadata": {},
   "source": [
    "### 7.6 Comment on the Results\n",
    "\n",
    "Comparing the results from the three methods: \n",
    "\n",
    "1. Historical Method: Relies on actual past returns, which may not capture future volatility accurately.\n",
    "2. Parametric Method: Assumes returns are normally distributed, which might not always be true, but provides a theoretical approach.\n",
    "3. Monte Carlo Simulation: Provides a flexible method to model potential future returns, capturing more possible outcomes but requiring assumptions on return distribution.\n",
    "\n",
    "Each method has its strengths and limitations, and the choice of method depends on the context and the availability of data. Historical and Monte Carlo methods might provide a more realistic view if returns are not normally distributed, while parametric methods are useful for theoretical models."
   ]
  }
 ],
 "metadata": {
  "kernelspec": {
   "display_name": "Python 3 (ipykernel)",
   "language": "python",
   "name": "python3"
  },
  "language_info": {
   "codemirror_mode": {
    "name": "ipython",
    "version": 3
   },
   "file_extension": ".py",
   "mimetype": "text/x-python",
   "name": "python",
   "nbconvert_exporter": "python",
   "pygments_lexer": "ipython3",
   "version": "3.11.3"
  }
 },
 "nbformat": 4,
 "nbformat_minor": 5
}
