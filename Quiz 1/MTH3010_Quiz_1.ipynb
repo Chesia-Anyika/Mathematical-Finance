{
  "nbformat": 4,
  "nbformat_minor": 0,
  "metadata": {
    "colab": {
      "provenance": []
    },
    "kernelspec": {
      "name": "python3",
      "display_name": "Python 3"
    },
    "language_info": {
      "name": "python"
    }
  },
  "cells": [
    {
      "cell_type": "markdown",
      "source": [
        "# Mathematical Finance - Quiz 1\n",
        "**Name: Chesia Anyika**\n",
        "\n",
        "**ID: 665567**"
      ],
      "metadata": {
        "id": "B7SKbED1vbU6"
      }
    },
    {
      "cell_type": "markdown",
      "source": [
        "## Question 1\n",
        "**Define expectation and variance in the context of probability theory. Explain their significance in financial mathematics.**\n",
        "\n",
        "\n",
        "> **Expectation**\n",
        "\n",
        "The Expectation, or expected value of a random variable is a measure of the central tendency of the random variable's distribution, representing the average outcome of an experiment that is repeated many times.\n",
        "\n",
        "In mathematical finance, it is applied in computing expected return, which is the average return one can expect from an investment. Expectation is used to calculate this by considering all possible outcomes and their associated probabilities\n",
        "\n",
        "> **Variance**\n",
        "\n",
        "The Variance of a random variable is a measure of the spread of the random variables values around the mean.\n",
        "\n",
        "In mathematical finance, it is used in Risk measurement, as a measure of the degree of uncertainty associated with the random variable. The variance of an asset's return reflects the volatility associated with that investment. Higher variance indicates a larger spread of possible returns, signifying\n",
        "greater risk.\n"
      ],
      "metadata": {
        "id": "G6FFc8G6v-En"
      }
    },
    {
      "cell_type": "markdown",
      "source": [
        "## Question 2\n",
        "\n",
        "**Suppose you have historical data for three stocks: A, B and C\n",
        "(rendered in the below dataframe)**\n"
      ],
      "metadata": {
        "id": "6nKPlZwy1U0m"
      }
    },
    {
      "cell_type": "code",
      "source": [
        "#library\n",
        "import pandas as pd\n",
        "\n",
        "#define the data\n",
        "data = {\n",
        "    'Day': [1, 2, 3, 4, 5, 6, 7, 8, 9, 10],\n",
        "    'Stock A Return': [0.0073, 0.0117, 0.0054, 0.0238, 0.0022, 0.0174, 0.0139, 0.0047, 0.0088, 0.0160],\n",
        "    'Stock B Return': [0.0089, 0.0102, 0.0065, 0.0032, 0.0137, 0.0161, 0.0113, 0.0098, 0.0110, 0.0123],\n",
        "    'Market Return': [0.0058, 0.0150, 0.0120, 0.0141, 0.0078, 0.0193, 0.0087, 0.0134, 0.0046, 0.0061]\n",
        "}\n",
        "\n",
        "# Create the DataFrame\n",
        "df = pd.DataFrame(data)\n",
        "\n",
        "# Display the DataFrame\n",
        "print(df)\n"
      ],
      "metadata": {
        "colab": {
          "base_uri": "https://localhost:8080/",
          "height": 0
        },
        "id": "4xPgnt8vz6NA",
        "outputId": "ebf6fc04-bf6d-4c5b-d154-e1e70ef87975"
      },
      "execution_count": 13,
      "outputs": [
        {
          "output_type": "stream",
          "name": "stdout",
          "text": [
            "   Day  Stock A Return  Stock B Return  Market Return\n",
            "0    1          0.0073          0.0089         0.0058\n",
            "1    2          0.0117          0.0102         0.0150\n",
            "2    3          0.0054          0.0065         0.0120\n",
            "3    4          0.0238          0.0032         0.0141\n",
            "4    5          0.0022          0.0137         0.0078\n",
            "5    6          0.0174          0.0161         0.0193\n",
            "6    7          0.0139          0.0113         0.0087\n",
            "7    8          0.0047          0.0098         0.0134\n",
            "8    9          0.0088          0.0110         0.0046\n",
            "9   10          0.0160          0.0123         0.0061\n"
          ]
        }
      ]
    },
    {
      "cell_type": "markdown",
      "source": [
        "**Calculate the expected return and variance of a portfolio consisting of 30% of stock A, 50% of stock B, and 20% of stock C**"
      ],
      "metadata": {
        "id": "1SDaWIlW2Czw"
      }
    },
    {
      "cell_type": "markdown",
      "source": [
        "1. **Expected Return**\n",
        "\n",
        "The formula for the expected return of a portfolio is:\n",
        "\n",
        "$E[R_p] = \\sum_{i=1}^{n}w_{i}E[R_i]$\n",
        "\n",
        "Where:\n",
        "\n",
        "- $E[R_p]$ is the expected return of the portfolio\n",
        "\n",
        "- $w_i$ is the weight of each investment\n",
        "\n",
        "- $E[R_i]$ is the expected return of each investment\n",
        "\n",
        "\n",
        "---\n",
        "\n",
        "\n",
        "\n",
        "We first compute the $E[R_i]$ stocks A, B and C. The formula for this is:\n",
        "\n",
        "$E[R_i] = \\sum_{i=1}^{n} x_ip_i$\n",
        "\n",
        "Where\n",
        "\n",
        "- $x_i$ is the possible value of the return\n",
        "\n",
        "- $p_i$ is the corresponding probabilities\n",
        "\n",
        "\n",
        "---\n",
        "\n",
        "\n",
        "\n",
        "$p_i = \\frac{1}{n}$\n",
        "\n",
        "$n = 10$\n",
        "\n",
        "$p_i = \\frac{1}{10}$\n",
        "\n",
        "---\n",
        "\n",
        "$E[R_A] = (0.0073 + 0.0117 + 0.0054 + 0.0238 + 0.0022 + 0.0174 + 0.0139 + 0.0047 + 0.0088 + 0.0160)(\\frac{1}{10})$\n",
        "\n",
        "$E[R_A] = 0.01112 = 1.112\\%$\n",
        "\n",
        "\n",
        "---\n",
        "\n",
        "$E[R_B] = (0.0089+0.0102+0.0065+0.0032+0.0137+0.0161+0.0113+0.0098+0.0110+0.0123)(\\frac{1}{10})$\n",
        "\n",
        "$E[R_B] = 0.0103 = 1.03\\%$\n",
        "\n",
        "\n",
        "---\n",
        "$E[R_C] = (0.0058+0.0150+0.0120+0.0141+0.0078+0.0193+0.0087+0.0134+0.0046+0.0061)(\\frac{1}{10})$\n",
        "\n",
        "$E[R_C] = 0.01068 = 1.068\\%$\n",
        "\n",
        "\n",
        "---\n",
        "$w_A = 30\\% = 0.3$\n",
        "\n",
        "$w_B = 50\\% = 0.5$\n",
        "\n",
        "$w_C = 20\\% = 0.2$\n",
        "\n",
        "---\n",
        "\n",
        "We can now compute the $E[R_p]$ as follows:\n",
        "\n",
        "$E[R_p] = (0.3 \\times 1.112)+(0.5 \\times 1.03)+(0.2 \\times 1.068)$\n",
        "\n",
        "$E[R_p] = 0.3336 + 0.515 + 0.2136$\n",
        "\n",
        "$E[R_p] = 1.0622$\n",
        "\n",
        "---\n",
        "Thus the expected return of the portfolio is 1.0622%\n",
        "\n",
        "\n",
        "\n"
      ],
      "metadata": {
        "id": "f2uN6BMX2YBq"
      }
    },
    {
      "cell_type": "markdown",
      "source": [
        "**Variance**\n",
        "\n",
        "The Variance of portfolio returns is computed as per the formula:\n",
        "\n",
        "$\\mathrm{Var}(R_p) = w_1^2 \\mathrm{Var}(R_1) + w_2^2 \\mathrm{Var}(R_2) + w_3^2 \\mathrm{Var}(R_3) + 2w_1w_2 \\mathrm{Cov}(R_1, R_2) + 2w_1w_3 \\mathrm{Cov}(R_1, R_3) + 2w_2w_3 \\mathrm{Cov}(R_2, R_3)$\n",
        "\n",
        "\n",
        "Where:\n",
        "\n",
        " - $\\mathrm{Cov}(X,Y)$ is the Covariance\n",
        "\n",
        "- $w_i$ is the weight associated with an individual asset\n",
        "\n",
        "- $Var(X)$ is the variance of the individual return of asset X\n",
        "\n",
        "---\n",
        "We first compute the variances of the individual assets as per the formula:\n",
        "\n",
        "$\\mathrm{Var}(X) = \\sum_{i=1}^{n} (x_i - \\mathbb{E}[X])^2 p_i\n",
        "$\n",
        "\n",
        "$E[R_A] = 0.01112 $\n",
        "\n",
        "$E[R_B] = 0.0103 $\n",
        "\n",
        "$E[R_C] = 0.01068$\n",
        "\n",
        "---\n",
        "\n",
        "$\\mathrm{Var}(R_A) = \\sum_{i=1}^{n} (x_i - \\mathbb{E}[R_A])^2 p_i\n",
        "$\n",
        "\n",
        "$\\mathrm{Var}(R_A) = [(0.0073-0.01112)^2+ (0.0117-0.01112)^2+ (0.0054-0.01112)^2+ (0.0238-0.01112)^2+ (0.0022-0.01112)^2+ (0.0174-0.01112)^2+ (0.0139-0.01112)^2+ (0.0047-0.01112)^2+ (0.0088-0.01112)^2+ (0.0160-0.01112)^2] \\frac{1}{10}\n",
        "$\n",
        "\n",
        "$\\mathrm{Var}(R_A) = \\frac{1}{10} \\left[ 0.0000145924 + 0.0000003364 + 0.0000327184 + 0.0001609824 + 0.0000797264 + 0.0000393984 + 0.0000077284 + 0.0000411964 + 0.0000053824 + 0.0000238144 \\right] $\n",
        "\n",
        "$\\mathrm{Var}(R_A) = \\frac{1}{10} \\times 0.000405495 = 0.0000405495$\n",
        "\n",
        "$\\mathrm{Var}(R_A) = 0.0000405495$\n",
        "\n",
        "---\n",
        "\n",
        "$\\mathrm{Var}(R_B) = \\sum_{i=1}^{n} (x_i - \\mathbb{E}[R_B])^2 p_i\n",
        "$\n",
        "\n",
        "$\\mathrm{Var}(R_B) = \\frac{1}{10} [ (0.0089 - 0.0103)^2 + (0.0102 - 0.0103)^2 + (0.0065 - 0.0103)^2 + (0.0032 - 0.0103)^2 + (0.0137 - 0.0103)^2 + (0.0161 - 0.0103)^2 + (0.0113 - 0.0103)^2 + (0.0098 - 0.0103)^2 + (0.0110 - 0.0103)^2 + (0.0123 - 0.0103)^2]$\n",
        "\n",
        "$\\mathrm{Var}(R_B) = \\frac{1}{10} [0.00000196+0.00000001+0.00001444+0.00005041+0.00001156+0.00003364+0.00000100+0.00000025+0.00000049+0.00000400]$\n",
        "\n",
        "$\\mathrm{Var}(R_B) = \\frac{1}{10} \\times 0.00011776 = 0.000011776$\n",
        "\n",
        "$\\mathrm{Var}(R_B) = 0.000011776$\n",
        "\n",
        "---\n",
        "$\\mathrm{Var}(R_C) = \\sum_{i=1}^{n} (x_i - \\mathbb{E}[R_C])^2 p_i\n",
        "$\n",
        "\n",
        "$\\mathrm{Var}(R_C) = \\frac{1}{10}[(0.0058-0.01068)^2 + (0.0150-0.01068)^2 +(0.0120-0.01068)^2 +(0.0141-0.01068)^2 +(0.0078-0.01068)^2 +(0.0193-0.01068)^2 +(0.0087-0.01068)^2 +(0.0134-0.01068)^2 +(0.0046-0.01068)^2 +(0.0061-0.01068)^2]$\n",
        "\n",
        "$\\mathrm{Var}(R_C) = \\frac{1}{10} [0.0000238144 + 0.0000186624 + 0.0000017424+0.0000116964+0.0000082944 + 0.0000742844+0.0000039204+0.0000073984+0.0000369664+0.0000209764]$\n",
        "\n",
        "$\\mathrm{Var}(R_C) = \\frac{1}{10}[0.0002060756]$\n",
        "\n",
        "$\\mathrm{Var}(R_C) = 0.00002060756$\n",
        "\n",
        "---\n",
        "We then compute the Covariances as per the formula:  \n",
        "\n",
        "$\\mathrm{Cov}(X, Y) = \\sum_{i=1}^{n} \\sum_{j=1}^{n} (x_i - \\mathbb{E}[X])(y_j - \\mathbb{E}[Y]) p_{ij}$\n",
        "\n",
        "Where:\n",
        "- $\\mathbb{E}[X]$ is the Expected value for asset X\n",
        "- $p_{ij}$ is the joint probability that $X = x_i$ and $Y = y_j$.\n",
        "\n",
        "Since each $p_i$ = $\\frac{1}{10}$ (equal probability for each outcome):\n",
        "\n",
        "$p_{ij}$ = $\\frac{1}{10}$,  for all $i,j$\n",
        "\n",
        "---\n",
        "\n",
        "$\\mathrm{Cov}(R_A, R_B) = [(0.0073 -0.01112)+ (0.0117 - 0.01112)+ (0.0054-0.01112)+(0.0238-0.01112)+(0.0022-0.01112)+(0.0174-0.01112)+(0.0139-0.01112)+(0.0047-0.01112)+(0.0088-0.01112)+(0.0160-0.01112)]\\times [(0.0089-0.0103)+(0.0102-0.0103)+(0.0065-0.0103)+(0.0032-0.0103)+(0.0137-0.0103)+(0.0161-0.0103)+(0.0113-0.0103)+(0.0098-0.0103)+(0.0110-0.0103)+(0.0123-0.0103)]\\times [\\frac{1}{10}]$\n",
        "\n",
        "$\\mathrm{Cov}(R_A, R_B) = \\frac{1}{10} [(−0.00382)+(0.00058)+(-0.00572)+(0.01268)+(-0.00892)+(0.00628)+(0.00278)+(-0.00642)+(-0.00232)+(0.00488)]\\times [(-0.0014)+(-0.0001)+(-0.0038)+(-0.0071)+(0.0034)+(0.0058)+(0.0010)+(-0.0005)+(0.0007)+(0.0017)]$\n",
        "\n",
        "$\\mathrm{Cov}(R_A,R_B) = \\frac{1}{10} [0.0000053524+0.000000058+0.0000217856−0.000089788−0.0000303288+0.0000364544+0.000002778+0.00000321+0.000001624+0.000008296]$\n",
        "\n",
        "$\\mathrm{Cov}(R_A,R_B) = \\frac{1}{10} \\times 0.0000495384$\n",
        "\n",
        "$\\mathrm{Cov}(R_A, R_B) = 0.00000495384$\n",
        "\n",
        "---\n",
        "\n",
        "$\\mathrm{Cov}(R_B, R_C) = [(0.0089 - 0.0103) + (0.0102 - 0.0103) + (0.0065 - 0.0103) + (0.0032 - 0.0103) + (0.0137 - 0.0103) + (0.0161 - 0.0103) + (0.0113 - 0.0103) + (0.0098 - 0.0103) + (0.0110 - 0.0103) + (0.0123 - 0.0103)] \\\\\n",
        "\\times [(0.0058 - 0.01068) + (0.0150 - 0.01068) + (0.0120 - 0.01068) + (0.0141 - 0.01068) + (0.0078 - 0.01068) + (0.0193 - 0.01068) + (0.0087 - 0.01068) + (0.0134 - 0.01068) + (0.0046 - 0.01068) + (0.0061 - 0.01068)] \\\\\n",
        "\\times \\left(\\frac{1}{10}\\right)$\n",
        "\n",
        "$\\mathrm{Cov}(R_B, R_C) = \\frac{1}{10} [(0.0018) + (0.0009) + (0.0002) + (-0.0071) + (0.0034) + (0.0058) + (0.0010) + (-0.0005) + (0.0003) + (0.0015)] \\\\\n",
        "\\times [(0.0009) + (0.0042) + (0.0012) + (0.0034) + (-0.0029) + (0.0086) + (-0.0010) + (0.0026) + (-0.0060) + (-0.0046)]$\n",
        "\n",
        "$\\mathrm{Cov}(R_B, R_C) = \\frac{1}{10} [0.000005652 + 0.00000378 + 0.00000024 - 0.00002406 + 0.00000988 + 0.00004988 + 0.0000010 - 0.0000013 - 0.0000018 - 0.0000069]$\n",
        "\n",
        "$\\mathrm{Cov}(R_B, R_C) = \\frac{1}{10} \\times 0.000036848$\n",
        "\n",
        "$\\mathrm{Cov}(R_B, R_C) = 0.0000036848$\n",
        "\n",
        "---\n",
        "\n",
        "\n",
        "$\\mathrm{Cov}(R_A, R_C) = [(0.0073 - 0.01112) + (0.0117 - 0.01112) + (0.0054 - 0.01112) + (0.0238 - 0.01112) + (0.0022 - 0.01112) + (0.0174 - 0.01112) + (0.0139 - 0.01112) + (0.0047 - 0.01112) + (0.0088 - 0.01112) + (0.0160 - 0.01112)] \\\\\n",
        "\\times [(0.0058 - 0.01068) + (0.0150 - 0.01068) + (0.0120 - 0.01068) + (0.0141 - 0.01068) + (0.0078 - 0.01068) + (0.0193 - 0.01068) + (0.0087 - 0.01068) + (0.0134 - 0.01068) + (0.0046 - 0.01068) + (0.0061 - 0.01068)] \\\\\n",
        "\\times \\left(\\frac{1}{10}\\right)$\n",
        "\n",
        "$\\mathrm{Cov}(R_A, R_C) = \\frac{1}{10} [( -0.00382) + (0.00058) + (-0.00572) + (0.01268) + (-0.00892) + (0.00628) + (0.00278) + (-0.00642) + (-0.00232) + (0.00488)] \\\\\n",
        "\\times [( -0.00488) + (0.00432) + (0.00132) + (0.00342) + (-0.00232) + (0.00862) + (-0.00098) + (0.00272) + (-0.00608) + (-0.00458)]$\n",
        "\n",
        "$\\mathrm{Cov}(R_A, R_C) = \\frac{1}{10} [0.0000053524 + 0.0000002496 + 0.0000075744 + 0.0000434176 - 0.0000206936 + 0.0000541104 - 0.0000027264 + 0.0000017504 + 0.0000014064 - 0.0000223904]$\n",
        "\n",
        "$\\mathrm{Cov}(R_A, R_C) = \\frac{1}{10} \\times 0.0000671388$\n",
        "\n",
        "$\\mathrm{Cov}(R_A, R_C) = 0.00000671388$\n",
        "\n",
        "---\n",
        "We then define the weights:\n",
        "\n",
        "$w_1$ = 0.3\n",
        "\n",
        "$w_2$ = 0.5\n",
        "\n",
        "$w_3$ = 0.2\n",
        "\n",
        "---\n",
        "We then compute the $\\mathrm{Var}(R_p)$ as follows:\n",
        "\n",
        "$\\mathrm{Var}(R_p) = (0.3^2 \\times 0.0000405495) + (0.5^2 \\times 0.000011776) + (0.2^2 \\times 0.00002060756) + 2(0.3\\times 0.5) (0.00000495384) + 2(0.3 \\times 0.2) (0.00000671388) + 2(0.5 \\times 0.2) (0.0000036848)$\n",
        "\n",
        "$$\n",
        "\\begin{aligned}\n",
        "\\mathrm{Var}(R_p) &= (0.3^2 \\times 0.0000405495) + (0.5^2 \\times 0.000011776) + (0.2^2 \\times 0.00002060756) \\\\\n",
        "&\\quad + 2(0.3 \\times 0.5)(0.00000495384) + 2(0.3 \\times 0.2)(0.00000671388) + 2(0.5 \\times 0.2)(0.0000036848) \\\\\n",
        "\\\\\n",
        "0.3^2 &= 0.09 \\\\\n",
        "0.5^2 &= 0.25 \\\\\n",
        "0.2^2 &= 0.04 \\\\\n",
        "\\\\\n",
        "0.09 \\times 0.0000405495 &= 0.000003649455 \\\\\n",
        "0.25 \\times 0.000011776 &= 0.000002944 \\\\\n",
        "0.04 \\times 0.00002060756 &= 0.0000008243024 \\\\\n",
        "\\\\\n",
        "2(0.3 \\times 0.5) &= 2 \\times 0.15 = 0.3 \\\\\n",
        "0.3 \\times 0.00000495384 &= 0.000001486152 \\\\\n",
        "0.3 \\times 0.00000495384 &= 0.000001486152 \\\\\n",
        "\\\\\n",
        "2(0.3 \\times 0.2) &= 2 \\times 0.06 = 0.12 \\\\\n",
        "0.12 \\times 0.00000671388 &= 0.0000008056656 \\\\\n",
        "\\\\\n",
        "2(0.5 \\times 0.2) &= 2 \\times 0.1 = 0.2 \\\\\n",
        "0.2 \\times 0.0000036848 &= 0.00000073696 \\\\\n",
        "\\\\\n",
        "\\mathrm{Var}(R_p) &= 0.000003649455 + 0.000002944 + 0.0000008243024 + 0.000001486152 + 0.0000008056656 + 0.00000073696 \\\\\n",
        "&= 0.000010446535 \\\\\n",
        "\\end{aligned}\n",
        "$$\n",
        "\n",
        "Thus the variance of the portfolio is:\n",
        "$\\mathrm{Var}(R_p) = 0.000010446535$\n"
      ],
      "metadata": {
        "id": "WjCh0WDEQlpD"
      }
    },
    {
      "cell_type": "markdown",
      "source": [
        "## Question 3\n",
        "**Write a script in python to solve Question 2**\n",
        "\n",
        "Using the dataframe `df` defined above:\n",
        "\n"
      ],
      "metadata": {
        "id": "lb7RxQScssYQ"
      }
    },
    {
      "cell_type": "code",
      "source": [
        "print(df)"
      ],
      "metadata": {
        "colab": {
          "base_uri": "https://localhost:8080/",
          "height": 0
        },
        "id": "_RUupC_itzkK",
        "outputId": "3ca605b5-25b1-459e-fb7e-f35a5f38fc2b"
      },
      "execution_count": 14,
      "outputs": [
        {
          "output_type": "stream",
          "name": "stdout",
          "text": [
            "   Day  Stock A Return  Stock B Return  Market Return\n",
            "0    1          0.0073          0.0089         0.0058\n",
            "1    2          0.0117          0.0102         0.0150\n",
            "2    3          0.0054          0.0065         0.0120\n",
            "3    4          0.0238          0.0032         0.0141\n",
            "4    5          0.0022          0.0137         0.0078\n",
            "5    6          0.0174          0.0161         0.0193\n",
            "6    7          0.0139          0.0113         0.0087\n",
            "7    8          0.0047          0.0098         0.0134\n",
            "8    9          0.0088          0.0110         0.0046\n",
            "9   10          0.0160          0.0123         0.0061\n"
          ]
        }
      ]
    },
    {
      "cell_type": "markdown",
      "source": [
        "1. **Expected Returns**\n",
        "\n",
        "Formula: $E[R_p] = \\sum_{i=1}^{n}w_{i}E[R_i]$\n",
        "\n",
        "First I computed the individual $E[R_i]$ per stock:"
      ],
      "metadata": {
        "id": "V3F192Oat2qY"
      }
    },
    {
      "cell_type": "code",
      "source": [
        "## Calculate the expected returns\n",
        "#define parameters\n",
        "n = 10\n",
        "p_i = 1 / n\n",
        "\n",
        "#compute expected returns\n",
        "E_R_A = df['Stock A Return'].mean()\n",
        "E_R_B = df['Stock B Return'].mean()\n",
        "E_R_C = df['Market Return'].mean()\n",
        "\n",
        "#print result\n",
        "print(f\"Expected Return of Stock A: {E_R_A}\")\n",
        "print(f\"Expected Return of Stock B: {E_R_B}\")\n",
        "print(f\"Expected Return of Stock C: {E_R_C}\")\n"
      ],
      "metadata": {
        "colab": {
          "base_uri": "https://localhost:8080/",
          "height": 0
        },
        "id": "SW_raq16sUEd",
        "outputId": "14ee6f87-16f1-47c9-c8f8-b810e61652e9"
      },
      "execution_count": 15,
      "outputs": [
        {
          "output_type": "stream",
          "name": "stdout",
          "text": [
            "Expected Return of Stock A: 0.011120000000000001\n",
            "Expected Return of Stock B: 0.0103\n",
            "Expected Return of Stock C: 0.010679999999999999\n"
          ]
        }
      ]
    },
    {
      "cell_type": "markdown",
      "source": [
        "Then I defined my weights, and computed the $E[R_p]$ for the portfolio:"
      ],
      "metadata": {
        "id": "7NR4iS9SuY9l"
      }
    },
    {
      "cell_type": "code",
      "source": [
        "# Weights of the investments\n",
        "w_A = 0.3\n",
        "w_B = 0.5\n",
        "w_C = 0.2\n",
        "\n",
        "# Calculate the expected return of the portfolio\n",
        "E_R_p = (w_A * E_R_A) + (w_B * E_R_B) + (w_C * E_R_C)\n",
        "\n",
        "print(f\"Expected Return of the Portfolio: {E_R_p * 100:.4f}%\")"
      ],
      "metadata": {
        "colab": {
          "base_uri": "https://localhost:8080/",
          "height": 0
        },
        "id": "lcY1j_MDuipf",
        "outputId": "45c3dff3-c0e8-4ea1-eed8-cdbcf9d1a81c"
      },
      "execution_count": 16,
      "outputs": [
        {
          "output_type": "stream",
          "name": "stdout",
          "text": [
            "Expected Return of the Portfolio: 1.0622%\n"
          ]
        }
      ]
    },
    {
      "cell_type": "markdown",
      "source": [
        "2. **Variance**\n",
        "\n",
        "Overall Formula: $\\mathrm{Var}(R_p) = w_1^2 \\mathrm{Var}(R_1) + w_2^2 \\mathrm{Var}(R_2) + w_3^2 \\mathrm{Var}(R_3) + 2w_1w_2 \\mathrm{Cov}(R_1, R_2) + 2w_1w_3 \\mathrm{Cov}(R_1, R_3) + 2w_2w_3 \\mathrm{Cov}(R_2, R_3)$\n",
        "\n",
        "First I computed the individual variances per asset:\n",
        "\n",
        "Formula:\n",
        "\n",
        "$\\mathrm{Var}(X) = \\sum_{i=1}^{n} (x_i - \\mathbb{E}[X])^2 p_i$\n"
      ],
      "metadata": {
        "id": "DHEosOfNuqKd"
      }
    },
    {
      "cell_type": "code",
      "source": [
        "#formula for computing variances\n",
        "def compute_variance(returns):\n",
        "    \"\"\"\n",
        "    Compute the variance of a given set of returns.\n",
        "\n",
        "    :param returns: List or pandas Series of returns\n",
        "    :return: Variance of the returns\n",
        "    \"\"\"\n",
        "    n = len(returns)\n",
        "    p_i = 1 / n  # Equal probability for each return\n",
        "    mean_return = sum(returns) / n  # Mean of the returns\n",
        "    variance = sum([(x - mean_return) ** 2 * p_i for x in returns])\n",
        "    return variance\n",
        "\n",
        "# Compute variances\n",
        "Var_R_A = compute_variance(df['Stock A Return'])\n",
        "Var_R_B = compute_variance(df['Stock B Return'])\n",
        "Var_R_C = compute_variance(df['Market Return'])\n",
        "\n",
        "#print result\n",
        "print(f\"Variance of Stock A: {Var_R_A}\")\n",
        "print(f\"Variance of Stock B: {Var_R_B}\")\n",
        "print(f\"Variance of Stock C: {Var_R_C}\")\n"
      ],
      "metadata": {
        "colab": {
          "base_uri": "https://localhost:8080/",
          "height": 0
        },
        "id": "KYtyOD1pxsJk",
        "outputId": "ade14b86-5dfa-4908-cad3-b60d58b5dfef"
      },
      "execution_count": 17,
      "outputs": [
        {
          "output_type": "stream",
          "name": "stdout",
          "text": [
            "Variance of Stock A: 4.055759999999999e-05\n",
            "Variance of Stock B: 1.1776000000000002e-05\n",
            "Variance of Stock C: 2.0777600000000002e-05\n"
          ]
        }
      ]
    },
    {
      "cell_type": "markdown",
      "source": [
        "I then computed the Covariance per individual asset, as per the formula:\n",
        "\n",
        "\n",
        "\n"
      ],
      "metadata": {
        "id": "bqHCn_TbzES1"
      }
    },
    {
      "cell_type": "code",
      "source": [
        "# Compute covariances\n",
        "Cov_R_A_R_B = df['Stock A Return'].cov(df['Stock B Return'])\n",
        "Cov_R_A_R_C = df['Stock A Return'].cov(df['Market Return'])\n",
        "Cov_R_B_R_C = df['Stock B Return'].cov(df['Market Return'])\n",
        "\n",
        "#print results\n",
        "print(f\"Covariance between Stock A and Stock B: {Cov_R_A_R_B}\")\n",
        "print(f\"Covariance between Stock A and Market: {Cov_R_A_R_C}\")\n",
        "print(f\"Covariance between Stock B and Market: {Cov_R_B_R_C}\")"
      ],
      "metadata": {
        "colab": {
          "base_uri": "https://localhost:8080/",
          "height": 0
        },
        "id": "BzTtrQIWzj93",
        "outputId": "9d43e5d2-911b-408b-debd-2b60b2846761"
      },
      "execution_count": 18,
      "outputs": [
        {
          "output_type": "stream",
          "name": "stdout",
          "text": [
            "Covariance between Stock A and Stock B: -4.753333333333333e-06\n",
            "Covariance between Stock A and Market: 1.1730444444444444e-05\n",
            "Covariance between Stock B and Market: 6.111111111111171e-08\n"
          ]
        }
      ]
    },
    {
      "cell_type": "markdown",
      "source": [
        "I then defined my weights, and computed the overall $Var[R_p]$ of the portfolio:"
      ],
      "metadata": {
        "id": "AewKy03H1QiK"
      }
    },
    {
      "cell_type": "code",
      "source": [
        "# Weights\n",
        "w_A = 0.3\n",
        "w_B = 0.5\n",
        "w_C = 0.2\n",
        "\n",
        "# Compute portfolio variance\n",
        "Var_R_p = ((w_A**2 * Var_R_A) + (w_B**2 * Var_R_B) + (w_C**2 * Var_R_C) +\n",
        "           ((2 * w_A * w_B) * Cov_R_A_R_B) + ((2 * w_A * w_C) * Cov_R_A_R_C) + ((2 * w_B * w_C) * Cov_R_B_R_C))\n",
        "\n",
        "#print results\n",
        "print(f\"Variance of the Portfolio: {Var_R_p}\")"
      ],
      "metadata": {
        "colab": {
          "base_uri": "https://localhost:8080/",
          "height": 0
        },
        "id": "ZhlkSS-S1ar-",
        "outputId": "eb1427bb-5e38-46e3-8cb7-0db5d49e5ae3"
      },
      "execution_count": 19,
      "outputs": [
        {
          "output_type": "stream",
          "name": "stdout",
          "text": [
            "Variance of the Portfolio: 7.419163555555556e-06\n"
          ]
        }
      ]
    },
    {
      "cell_type": "markdown",
      "source": [
        "The result is $0.0000074192$, while the result of the manual computation is $0.000010446535$. The difference is computed as follows:"
      ],
      "metadata": {
        "id": "bOUvQfYu2O7y"
      }
    },
    {
      "cell_type": "code",
      "source": [
        "0.000010446535-0.0000074192"
      ],
      "metadata": {
        "colab": {
          "base_uri": "https://localhost:8080/",
          "height": 0
        },
        "id": "xr20NBHn2nK-",
        "outputId": "80e5bca0-fa9a-41d3-a19b-e028a2cb8c2c"
      },
      "execution_count": 20,
      "outputs": [
        {
          "output_type": "execute_result",
          "data": {
            "text/plain": [
              "3.0273349999999997e-06"
            ]
          },
          "metadata": {},
          "execution_count": 20
        }
      ]
    },
    {
      "cell_type": "markdown",
      "source": [
        "## Question 4\n",
        "**Give the definition of a martingale and explain its role in modeling the evolution of\n",
        "stock prices.**\n",
        "\n",
        "**Definition**\n",
        "\n",
        "A stochastic process $[Xt:t≥0]$ on a filtered probability space $(Ω,Σ,{Σ_t},P)$ is called a martingale with respect to the filtration $[Σ_t]$ if it satisfies the following conditions:\n",
        "\n",
        "1. **Adaptation**:\n",
        "The process $[Xt]$ is adapted to the filtration $[Σt]$. This means that $X_t​$ is measurable with respect to $Σ_t$ for each $t$.\n",
        "\n",
        "2. **Integrability**:\n",
        "$E(|X_t|)< \\infty$ for all $t \\geq 0$. This ensures that the expected value of the absolute value of $X_t$​ is finite.\n",
        "\n",
        "3. **Martingale Property**:\n",
        "For all $s \\leq t$, $E(X_t|\\sum_s)$.\n",
        "In words, the conditional expectation of $X_t$ given the information available up to time ss (denoted as $\\sum_s$) is equal to $X_s$.\n",
        "\n",
        "**Role in modelling Stocks**\n",
        "1. **Information Efficiency:** The martingale property implies that at any given time $s$, the best predictor of the future stock price $X_t$ is the current price $X_s$. This reflects the idea that in an efficient market, stock prices adjust immediately to new information, and thus future changes are unpredictable based on current information.\n",
        "\n",
        "2. **Fair Pricing:** In financial markets, martingales play a crucial role in the pricing of derivative securities (options, futures, etc.). The absence of arbitrage opportunities in an idealized market suggests that the price of a derivative should be the expected value of its future payoff under the risk-neutral measure, discounted to the present.\n",
        "\n",
        "3. **Stochastic Processes:** Stock prices are often modeled as martingales under certain assumptions about market efficiency and information flow. For instance, the geometric Brownian motion model (used in the Black-Scholes framework for option pricing) assumes that the logarithm of stock prices follows a Brownian motion, which is a type of martingale process.\n",
        "\n",
        "4. **Risk Management:** Martingales provide a foundation for risk management techniques such as hedging and portfolio management. Strategies like delta hedging aim to create portfolios that behave like martingales to minimize risk exposure to changes in stock prices."
      ],
      "metadata": {
        "id": "uuaCpFFa26Ow"
      }
    },
    {
      "cell_type": "markdown",
      "source": [
        "## Question 5\n",
        "**Let $X_t ~ N(\\mu, \\sigma^2)$ represent stock prices. Give the statement of Ito’s lemma. Hence\n",
        "use Ito’s Lemma to find the differential $df(X_t)$ if it follows the stochastic differential equation (SDE):**\n",
        "\n",
        "$$dX_t=\\mu X_t dt + \\sigma X_t dW_t$$\n",
        "\n",
        "**Where $f(X_t) = ln(X_t)$. Furthermore, compute the mean and variance of the resulting probability distribution for $f(X_t)$**\n",
        "\n"
      ],
      "metadata": {
        "id": "Osnw8l5J_Brv"
      }
    },
    {
      "cell_type": "markdown",
      "source": [
        "**Ito's Lemma**\n",
        "\n",
        "Ito’s Lemma is a fundamental result in stochastic calculus, which provides the differential of a\n",
        "function of a stochastic process. Ito's Lemma can be stated as:\n",
        "\n",
        "Let $X_t$ be an Ito process given by:\n",
        "$$dX_t = \\mu (X_t, t) dt + \\sigma(X_t, t) dW_t$$\n",
        "\n",
        "WHere μ and σ are sunctions of $X_t$ and t. if $f(X_t, t)$ is a twice continuously differentiable function, then $f(X_t, t)$ follows the SDE:\n",
        "\n",
        "$$df(X_t, t)=(\\frac{\\partial f}{\\partial t} + \\mu \\frac{\\partial f}{\\partial X} + \\frac{1}{2} \\sigma^2\\frac{\\partial^2 f}{\\partial X^2})dt + \\sigma \\frac{\\partial f}{\\partial X}dW_t$$\n",
        "\n",
        "---"
      ],
      "metadata": {
        "id": "K1FGZ4A2A0Co"
      }
    },
    {
      "cell_type": "markdown",
      "source": [
        "**Applying Ito's Lemma**\n",
        "\n",
        "Given the SDE:\n",
        "$$dX_t=\\mu X_t dt + \\sigma X_t dW_t$$\n",
        "\n",
        "We want to find the differential $df(X_t)$ for the function $f(X_t) = \\mathrm{ln}(X_t)$\n",
        "\n",
        "---\n",
        "\n",
        "**Step 1: Compute the partial derivatives**\n",
        "\n",
        "First derivative of $f(X_t)$:\n",
        "\n",
        "$\\frac{d}{dX_t}\\mathrm{ln}(X_t)=\\frac{1}{X_t}$ --> derivative rule for natural logs\n",
        "\n",
        "Thus:\n",
        "\n",
        "$\\frac{\\partial f}{\\partial X_t} = \\frac{1}{X_t}$\n",
        "\n",
        "Second derivative of $f(X_t)$:\n",
        "$\\frac{\\partial f}{\\partial X_t} = \\frac{1}{X_t}$\n",
        "\n",
        "$\\frac{d}{dX_t}(\\frac{1}{X_t}) = \\frac{d}{dX_t}(X_t^{-1})$ --> derivative rule for natural logs\n",
        "\n",
        "$\\frac{d}{dX_t}(X_t^{-1})=-1 \\cdot X_t^{-2}$ --> power rule ($\\frac{d}{dx}x^n = nx^{n-1}$)\n",
        "\n",
        "Thus:\n",
        "\n",
        "$\\frac{\\partial ^2f}{\\partial X^2_t} = - \\frac{1}{X^2_t}$\n",
        "\n",
        "---\n",
        "**Step 2: Substitute derivatives into Ito's Lemma**\n",
        "$$df(X_t)=(\\frac{\\partial f}{\\partial t} +  \\frac{\\partial f}{\\partial X_t} \\mu X_t + \\frac{1}{2} \\sigma^2 X_t^2\\frac{\\partial^2 f}{\\partial X_t^2})dt + \\sigma X_t \\frac{\\partial f}{\\partial X}dW_t$$\n",
        "\n",
        "Since $f(X_t) = \\mathrm{ln}(X_t)$ does not explicitly depend on t, $\\frac{\\partial f}{\\partial t} = 0$.\n",
        "\n",
        "Therefore:\n",
        "\n",
        "$df(X_t) = (\\frac{1}{X_t} \\mu X_t + \\frac{1}{2} (-\\frac{1}{X_t^2}) \\sigma^2 X^2_t)dt + \\frac{1}{X_t} \\sigma X_t dW_t$\n",
        "\n",
        "Simplified, the expression becomes:\n",
        "$df(X_t) = (\\mu - \\frac{1}{2} \\sigma^2)dt + \\sigma dW_t$\n",
        "\n",
        "---\n"
      ],
      "metadata": {
        "id": "hSoR5u3VCmDp"
      }
    },
    {
      "cell_type": "markdown",
      "source": [
        "**Mean of $f(X_t) = \\mathrm{ln}(X_t)$**\n",
        "\n",
        "Given the Differential $df(X_t) = (\\mu - \\frac{1}{2} \\sigma^2)dt + \\sigma dW_t$, Mean of $f(X_t)$ over time $t$ can be found by integrating the drift term:\n",
        "\n",
        "$E[\\mathrm{ln}(X_t)] = E[\\int_{0}^{t}(\\mu - \\frac{1}{2} \\sigma^2)ds] = (\\mu - 1/2 \\sigma^2)t$\n",
        "\n",
        "$E[\\mathrm{ln}(X_0)] = \\mathrm(X_0)$\n",
        "$E[\\int_{0}^{t}(\\mu - \\frac{1}{2} \\sigma^2)ds] = \\int_{0}^{t}(\\mu - \\frac{1}{2} \\sigma^2)ds$\n",
        "$E[\\int_{0}^{t} \\sigma dW_s]$\n",
        "\n",
        "Therefore:\n",
        "\n",
        "$E[\\mathrm{ln}X_t] = \\mathrm{ln}(X_0) + \\int_{0}^{t}(\\mu - \\frac{1}{2} \\sigma ^2)ds$\n",
        "\n",
        "Since $\\mu and \\sigma ^2$ are constants:\n",
        "\n",
        "$\\int_{0}^{t}(\\mu - \\frac{1}{2} \\sigma^2)ds = (\\mu - \\frac{1}{2} \\sigma^2) \\int_{0}^{t}ds =(\\mu - \\frac{1}{2} \\sigma^2)t$\n",
        "\n",
        "Substituting the result back into the expectation:\n",
        "\n",
        "$E[\\mathrm{ln}(X_t)] = \\mathrm{ln}(X_0)+(\\mu - \\frac{1}{2} \\sigma ^2)t$\n",
        "\n",
        "Further simplifying, we get:\n",
        "\n",
        "$E[\\mathrm{ln}(X_t)] = (\\mu - \\frac{1}{2} \\sigma ^2)t$\n",
        "\n",
        "---\n",
        "\n"
      ],
      "metadata": {
        "id": "TRcFNyefIZy6"
      }
    },
    {
      "cell_type": "markdown",
      "source": [
        "**Variance of $f(X_t)$**\n",
        "\n",
        "This can be found by integrating the diffusion term $\\sigma dW_t$.\n",
        "\n",
        "$\\mathrm{Var}(\\mathrm{ln}(X_t)) = E[(\\int_{0}^{t}\\sigma d W_s)^2] = \\sigma^2 t$\n"
      ],
      "metadata": {
        "id": "U3MkAM6NMxz6"
      }
    },
    {
      "cell_type": "markdown",
      "source": [
        "## Question 6\n",
        "**Prove that Brownian Motion is a Martingale**\n",
        "\n",
        "To prove that Brownian motion $[W_t]_{t\\leq 0}$ is a martingale, we need to verify that it satisfies the martingale properties with respect to its natural filtration. We denote the natural filtration of $[W_t]$ by $\\mathcal{[F_t]}_{t\\leq0}$, where $\\mathcal{F_t} = \\sigma (W_s:0 \\leq s \\leq t)$.\n",
        "\n",
        "\n",
        "The properties that need to be verified are:\n",
        "\n",
        "1. **Adaptedness**: $[W_t]_{t \\geq 0}$ is adapted to $\\mathcal{[F_t]}_{t \\geq 0}$.\n",
        "2. **Integrability**: $E[|W_t|] < \\infty$ for all $t \\geq 0$.\n",
        "3. **Martingale Property**: $E[W_t \\mid \\mathcal{F_s}] = W_s$ for all $0 \\leq s \\leq t$.\n",
        "\n",
        "### 1. Adaptedness\n",
        "\n",
        "By definition, Brownian motion $[W_t]$ is adapted to its natural filtration $\\mathcal{F_t}$, since $[W_t]$ is $\\mathcal{F_t}$-measurable.\n",
        "\n",
        "### 2. Integrability\n",
        "\n",
        "For each $t \\geq 0$,\n",
        "\n",
        "$E[|W_t|] < \\infty$\n",
        "\n",
        "This follows because $[W_t]$ is normally distributed with mean 0 and variance $t$, i.e., $W_t \\sim N(0, t)$. The expectation of the absolute value of a normally distributed random variable is finite. Specifically,\n",
        "\n",
        "$E[|W_t|] = \\sqrt{\\frac{2t}{\\pi}} < \\infty$\n",
        "\n",
        "### 3. Martingale Property\n",
        "\n",
        "To show $E[W_t \\mid \\mathcal{F_s}] = W_s$ for $0 \\leq s \\leq t$, we use the properties of conditional expectation and the fact that $W_t - W_s$ is independent of $\\mathcal{F_s}$ and normally distributed with mean 0 and variance $t-s$.\n",
        "\n",
        "Consider the decomposition of $W_t$:\n",
        "\n",
        "$W_t = W_s + (W_t - W_s)$\n",
        "\n",
        "Taking the conditional expectation with respect to $\\mathcal{F_s}$:\n",
        "\n",
        "$E[W_t \\mid \\mathcal{F_s}] = E[W_s + (W_t - W_s) \\mid \\mathcal{F_s}]$\n",
        "\n",
        "Since $W_s$ is $\\mathcal{F_s}$-measurable and $W_t - W_s$ is independent of $\\mathcal{F_s}$ with mean 0, we have:\n",
        "\n",
        "$E[W_t \\mid \\mathcal{F_s}] = W_s + E[W_t - W_s \\mid \\mathcal{F_s}]$\n",
        "\n",
        "Using the independence and the fact that the mean of $W_t - W_s$ is 0, we get:\n",
        "\n",
        "$E[W_t - W_s \\mid \\mathcal{F_s}] = E[W_t - W_s] = 0$\n",
        "\n",
        "\n",
        "Therefore,\n",
        "\n",
        "$E[W_t \\mid \\mathcal{F_s}] = W_s + 0 = W_s$\n",
        "\n",
        "This shows that $[W_t]_{t \\geq 0}$ satisfies the martingale property.\n",
        "\n",
        "**Conclusion**\n",
        "\n",
        "Since $[W_t]_{t \\geq 0}$ is adapted to $\\mathcal[F_t]_{t \\geq 0}$, has finite expectation for all $t \\geq 0$, and satisfies $E[W_t \\mid \\mathcal{F_s}] = W_s$ for all $0 \\leq s \\leq t$, we conclude that $[W_t]_{t \\geq 0}$ is indeed a martingale with respect to its natural filtration $\\mathcal{[F_t]}_{t \\geq 0}$.\n",
        "\n"
      ],
      "metadata": {
        "id": "erCwoJHBIm5l"
      }
    }
  ]
}